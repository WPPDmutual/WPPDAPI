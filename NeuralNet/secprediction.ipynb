{
 "cells": [
  {
   "cell_type": "code",
   "execution_count": null,
   "metadata": {},
   "outputs": [],
   "source": [
    "from __future__ import print_function\n",
    "\n",
    "import numpy as np\n",
    "import pandas as pd\n",
    "from sklearn.preprocessing import MinMaxScaler\n",
    "import matplotlib.pyplot as plt\n",
    "import json\n",
    "from os import listdir\n",
    "from keras.models import Sequential\n",
    "from keras.layers import Dense\n",
    "from keras.callbacks import TensorBoard\n",
    "from time import time\n",
    "import keras.backend as K\n",
    "from keras import metrics"
   ]
  },
  {
   "cell_type": "code",
   "execution_count": null,
   "metadata": {},
   "outputs": [],
   "source": [
    "def removeNone(input):\n",
    "    data = []\n",
    "    for i in input:\n",
    "        temp = []\n",
    "        for g in i:\n",
    "            if g is None:\n",
    "                temp.append(0)\n",
    "            else:\n",
    "                temp.append(g)\n",
    "        data.append(temp)\n",
    "    return data"
   ]
  },
  {
   "cell_type": "code",
   "execution_count": null,
   "metadata": {},
   "outputs": [],
   "source": [
    "train = json.loads(open('../train.json', 'r').read())\n",
    "test = json.loads(open('../test.json', 'r').read())\n",
    "current = json.loads(open('../current.json', 'r').read())\n",
    "tickers = json.loads(open('../test.json', 'r').read())['ticker']\n",
    "\n",
    "trainlength = len(train['growth'])\n",
    "testlength = len(test['growth'])\n",
    "\n",
    "x_train = removeNone(train['data'][:trainlength])\n",
    "x_test = removeNone(test['data'])\n",
    "currentData = removeNone(current['data'])\n",
    "y_train = removeNone(np.array(train['growth']).reshape((trainlength, 1)).tolist())\n",
    "y_test = removeNone(np.array(test['growth']).reshape((testlength, 1)).tolist())"
   ]
  },
  {
   "cell_type": "code",
   "execution_count": null,
   "metadata": {},
   "outputs": [],
   "source": [
    "xscaler = MinMaxScaler()\n",
    "xscaler.fit(x_train + x_test)\n",
    "x_train = xscaler.transform(x_train)\n",
    "x_test = xscaler.transform(x_test)\n",
    "currentData = xscaler.transform(currentData)\n",
    "\n",
    "yscaler = MinMaxScaler()\n",
    "yscaler.fit(y_train + y_test)\n",
    "y_train = yscaler.transform(y_train)\n",
    "y_test = yscaler.transform(y_test)"
   ]
  },
  {
   "cell_type": "code",
   "execution_count": null,
   "metadata": {},
   "outputs": [],
   "source": [
    "model = Sequential()\n",
    "\n",
    "model.add(Dense(units=1024, activation='relu', input_dim=224))\n",
    "model.add(Dense(units=512, activation='relu'))\n",
    "model.add(Dense(units=256, activation='relu'))\n",
    "model.add(Dense(units=128, activation='relu'))\n",
    "model.add(Dense(units=1))\n",
    "\n",
    "def mean_err():\n",
    "    correct = yscaler.inverse_transform(y_test)\n",
    "    pred = yscaler.inverse_transform(model.predict(x_test))\n",
    "    averageError = 0;\n",
    "    \n",
    "    for i in range(424):\n",
    "        averageError += abs(correct[i][0]/pred[i][0]-1)\n",
    "        if i > 0:\n",
    "            averageError = averageError/2\n",
    "    return averageError\n",
    "\n",
    "model.compile(loss='mean_squared_error', optimizer='adam')"
   ]
  },
  {
   "cell_type": "code",
   "execution_count": null,
   "metadata": {},
   "outputs": [],
   "source": [
    "import matplotlib.pyplot as plt\n",
    "from tqdm import tqdm\n",
    "\n",
    "batchSize = 32\n",
    "n_epochs = 100000\n",
    "error = []\n",
    "\n",
    "for i in tqdm(range(n_epochs)):\n",
    "    indices = np.random.choice(y_test.shape[0], batchSize, replace=False)\n",
    "    x_batch = x_train[indices, :]\n",
    "    y_batch = y_train[indices, :]\n",
    "    \n",
    "    model.train_on_batch(x_batch, y_batch)\n",
    "    error.append(mean_err())\n",
    "plt.plot(error[1::n_epochs//100])"
   ]
  },
  {
   "cell_type": "code",
   "execution_count": null,
   "metadata": {},
   "outputs": [],
   "source": [
    "import operator\n",
    "\n",
    "correct = yscaler.inverse_transform(y_test)\n",
    "\n",
    "# pred = model.predict(x_test)\n",
    "pred = yscaler.inverse_transform(model.predict(x_test))\n",
    "\n",
    "averageError = 0;\n",
    "predictions = {}\n",
    "corrections = {}\n",
    "\n",
    "for i in range(424):\n",
    "    averageError += abs(correct[i][0]/pred[i][0]-1)\n",
    "    if i > 0:\n",
    "        averageError = averageError/2\n",
    "    predictions[tickers[i]] = pred[i][0]\n",
    "    corrections[tickers[i]] = correct[i][0]\n",
    "\n",
    "    sortedItems = sorted(predictions.items(), key=operator.itemgetter(1))\n",
    "\n",
    "average = 0    \n",
    "\n",
    "for i in sortedItems[-10:]:\n",
    "    print(i[0])\n",
    "    print(corrections[i[0]])\n",
    "    average += corrections[i[0]]\n",
    "\n",
    "print(average/10)\n",
    "print(averageError)"
   ]
  },
  {
   "cell_type": "code",
   "execution_count": null,
   "metadata": {},
   "outputs": [],
   "source": [
    "pred = yscaler.inverse_transform(model.predict(currentData))\n",
    "\n",
    "predictions = {}\n",
    "\n",
    "for i in range(424):\n",
    "    predictions[tickers[i]] = pred[i][0]\n",
    "\n",
    "sortedItems = sorted(predictions.items(), key=operator.itemgetter(1))\n",
    "\n",
    "average = 0 \n",
    "\n",
    "for i in sortedItems[-50:]:\n",
    "    print(i[0])\n",
    "    print(i[1])\n",
    "    average += i[1]\n",
    "\n",
    "print(average/50)"
   ]
  }
 ],
 "metadata": {
  "kernelspec": {
   "display_name": "Python 3",
   "language": "python",
   "name": "python3"
  },
  "language_info": {
   "codemirror_mode": {
    "name": "ipython",
    "version": 3
   },
   "file_extension": ".py",
   "mimetype": "text/x-python",
   "name": "python",
   "nbconvert_exporter": "python",
   "pygments_lexer": "ipython3",
   "version": "3.6.4"
  }
 },
 "nbformat": 4,
 "nbformat_minor": 2
}
